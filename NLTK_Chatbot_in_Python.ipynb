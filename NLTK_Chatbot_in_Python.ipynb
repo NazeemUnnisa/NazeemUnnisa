{
  "cells": [
    {
      "cell_type": "markdown",
      "metadata": {
        "id": "view-in-github",
        "colab_type": "text"
      },
      "source": [
        "<a href=\"https://colab.research.google.com/github/NazeemUnnisa/NazeemUnnisa/blob/main/NLTK_Chatbot_in_Python.ipynb\" target=\"_parent\"><img src=\"https://colab.research.google.com/assets/colab-badge.svg\" alt=\"Open In Colab\"/></a>"
      ]
    },
    {
      "cell_type": "code",
      "execution_count": 1,
      "metadata": {
        "id": "0BN92Q2t7SRu"
      },
      "outputs": [],
      "source": [
        "import numpy as np\n",
        "import nltk\n",
        "import string\n",
        "import random"
      ]
    },
    {
      "cell_type": "code",
      "execution_count": 2,
      "metadata": {
        "id": "YyW1Wwzk_oZF"
      },
      "outputs": [],
      "source": [
        "##Reading the Corpus of Text"
      ]
    },
    {
      "cell_type": "code",
      "execution_count": 3,
      "metadata": {
        "id": "3oqgakBV_tP6"
      },
      "outputs": [],
      "source": [
        "f = open('/content/data.txt', 'r', errors = 'ignore')\n",
        "raw_doc = f.read()"
      ]
    },
    {
      "cell_type": "code",
      "execution_count": 4,
      "metadata": {
        "colab": {
          "base_uri": "https://localhost:8080/",
          "height": 123
        },
        "id": "WMcePYZFI8FA",
        "outputId": "4da2a22e-977d-49a0-8c77-a3c4d0689cb0"
      },
      "outputs": [
        {
          "output_type": "execute_result",
          "data": {
            "text/plain": [
              "'Jump to content\\nToggle sidebar\\n\\nWikipediaThe Free Encyclopedia\\nSearch Wikipedia\\nCreate account\\nLog in\\n\\nPersonal tools\\n\\nCharminar\\n\\nPage\\nTalk\\nRead\\nEdit\\nChange source\\nView history\\nFrom Simple English Wikipedia, the free encyclopedia\\nCharminar\\nCharminar-Pride of Hyderabad.jpg\\nReligion\\nAffiliation\\tIslam\\nDistrict\\tCharminar\\nYear consecrated\\t1591\\n(1591; 432 years ago)\\nLocation\\nLocation\\tHyderabad, Telangana, India\\n17°21′42″N 78°28′29″ECoordinates: 17°21′42″N 78°28′29″E\\nState\\tTelangana\\nArchitecture\\nArchitect(s)\\tMir Momin Astarawadi[1][2]\\nArchitectural style\\tIndo-Islamic architecture\\nFounder\\tMuhammad Quli Qutb Shah\\nSpecifications\\nMinaret(s)\\t4\\nMinaret height\\t48.7 metres (160 ft)\\nMaterials\\tgranite, limestone, mortar and pulverized marble\\nThe Charminar is a monument and mosque in Hyderabad, India. The structure was built in 1591 AD. It is the most famous building of Hyderabad and also one of the most famous buildings in India.[3] It was built by Muhammad Quli Qutb Shahi to celebrate the end of a deadly plague.[4] The Charminar lies near the bank of the river Musi. It is close to Laad Bazaar and Makkah Masjid.[4] Charminar is taken from two words Char and Minar which translate as Four Towers in English.[4]\\n\\nSome people say that Charminar was the first structure to be constructed in the newly built city of Hyderabad.[5] It is said that Quli Qutab Shah prayed for the end of the plague and vowed to build a mosque if it was eradicated.[6] Mir Momin Astarabadi, the prime minister of Qutb Shah played an important role in the design and layout of Charminar and the city of Hyderabad.[7] The structure is of Indo-Islamic architecture with some Persian elements.[8]\\n\\nReferences\\n\\nWikimedia Commons has media related to Charminar.\\n Khan, Asif Yar (18 June 2013). \"Here sleeps the earliest urban planner\". The Hindu.\\n \"Remembering the man behind Charminar\\'s architecture\". 5 April 2016.\\n \"Richard Goslan travels to India – Herald Scotland\". Archived from the original on 18 December 2010. Retrieved 27 March 2013.\\n Charminar: Hyderabad, Britannica Compton\\'s Encyclopedia\\n \"The Qutb Shahi monuments of Hyderabad-Golconda Fort, Qutb Shachi Tombs, Charminar\". UNESCO World Heritage Centre. Retrieved 27 March 2013.\\n \"India: Charminar is in fact a madrasa and masjid\". IRIB World Service. Retrieved 27 March 2013.\\n Sardar, Marika (2007). Golconda through time: A mirror of the evolving Deccan (Thesis). New York University. UMI Number:3269810.\\n Gayer, Lauren; Lynton (2011). Muslims in Indian cities: trajectories of marginalisation. Columbia University Press. ISBN 978-0-231-80085-3. Retrieved 27 March 2013. {{cite book}}: Text \"Jaffrelot\" ignored (help)\\nCategories: Hyderabad, IndiaMosques in India1591 establishments16th-century establishments in India\\nThis page was last changed on 12 December 2022, at 13:07.\\nText is available under the Creative Commons Attribution/Share-Alike License and the GFDL; additional terms may apply. See Terms of Use for details.\\nPrivacy policyAbout WikipediaDisclaimersMobile viewDevelopersStatisticsCookie statementWikimedia FoundationPowered by MediaWikiToggle limited content width'"
            ],
            "application/vnd.google.colaboratory.intrinsic+json": {
              "type": "string"
            }
          },
          "metadata": {},
          "execution_count": 4
        }
      ],
      "source": [
        "raw_doc"
      ]
    },
    {
      "cell_type": "code",
      "execution_count": null,
      "metadata": {
        "id": "s-4u4hHK_wdy"
      },
      "outputs": [],
      "source": [
        "raw_doc = raw_doc.lower() #Converting entire text to lowercase\n",
        "nltk.download ('punkt') #Using the Punkt tokenizer\n",
        "nltk.download ('wordnet') #Using the wordnet dictionary\n",
        "nltk.download ('omw-1.4')\n",
        "sentence_tokens = nltk.sent_tokenize(raw_doc)\n",
        "word_tokens = nltk.word_tokenize(raw_doc)"
      ]
    },
    {
      "cell_type": "code",
      "execution_count": null,
      "metadata": {
        "id": "eeTvx97oKCOS"
      },
      "outputs": [],
      "source": [
        "raw_doc"
      ]
    },
    {
      "cell_type": "code",
      "execution_count": 9,
      "metadata": {
        "id": "nOz5s_vBI1mx",
        "colab": {
          "base_uri": "https://localhost:8080/",
          "height": 130
        },
        "outputId": "3c21dbe9-9147-45ff-d83b-310c31b9a742"
      },
      "outputs": [
        {
          "output_type": "error",
          "ename": "IndentationError",
          "evalue": "ignored",
          "traceback": [
            "\u001b[0;36m  File \u001b[0;32m\"<ipython-input-9-5fb1f80ae475>\"\u001b[0;36m, line \u001b[0;32m2\u001b[0m\n\u001b[0;31m    word_tokens = nltk.word_tokenize(raw_doc)\u001b[0m\n\u001b[0m    ^\u001b[0m\n\u001b[0;31mIndentationError\u001b[0m\u001b[0;31m:\u001b[0m unexpected indent\n"
          ]
        }
      ],
      "source": [
        "##sentence_tokens = n1tk.sent_tokenize(raw_doc)\n",
        " ##word_tokens = nltk.word_tokenize(raw_doc)"
      ]
    },
    {
      "cell_type": "code",
      "execution_count": 12,
      "metadata": {
        "id": "DRgnnrFkMYWS"
      },
      "outputs": [],
      "source": [
        "##After Tokenization"
      ]
    },
    {
      "cell_type": "code",
      "execution_count": 13,
      "metadata": {
        "colab": {
          "base_uri": "https://localhost:8080/"
        },
        "id": "YXZdcasXMb4A",
        "outputId": "e7c3368f-4811-4b21-b068-5ce4f5eae8ba"
      },
      "outputs": [
        {
          "output_type": "execute_result",
          "data": {
            "text/plain": [
              "['jump to content\\ntoggle sidebar\\n\\nwikipediathe free encyclopedia\\nsearch wikipedia\\ncreate account\\nlog in\\n\\npersonal tools\\n\\ncharminar\\n\\npage\\ntalk\\nread\\nedit\\nchange source\\nview history\\nfrom simple english wikipedia, the free encyclopedia\\ncharminar\\ncharminar-pride of hyderabad.jpg\\nreligion\\naffiliation\\tislam\\ndistrict\\tcharminar\\nyear consecrated\\t1591\\n(1591; 432 years ago)\\nlocation\\nlocation\\thyderabad, telangana, india\\n17°21′42″n 78°28′29″ecoordinates: 17°21′42″n 78°28′29″e\\nstate\\ttelangana\\narchitecture\\narchitect(s)\\tmir momin astarawadi[1][2]\\narchitectural style\\tindo-islamic architecture\\nfounder\\tmuhammad quli qutb shah\\nspecifications\\nminaret(s)\\t4\\nminaret height\\t48.7 metres (160 ft)\\nmaterials\\tgranite, limestone, mortar and pulverized marble\\nthe charminar is a monument and mosque in hyderabad, india.',\n",
              " 'the structure was built in 1591 ad.',\n",
              " 'it is the most famous building of hyderabad and also one of the most famous buildings in india.',\n",
              " '[3] it was built by muhammad quli qutb shahi to celebrate the end of a deadly plague.',\n",
              " '[4] the charminar lies near the bank of the river musi.']"
            ]
          },
          "metadata": {},
          "execution_count": 13
        }
      ],
      "source": [
        "sentence_tokens [:5]"
      ]
    },
    {
      "cell_type": "code",
      "execution_count": 14,
      "metadata": {
        "colab": {
          "base_uri": "https://localhost:8080/"
        },
        "id": "DRYVopmSMgA1",
        "outputId": "01d7acc5-41ee-414c-9617-1764c093fed3"
      },
      "outputs": [
        {
          "output_type": "execute_result",
          "data": {
            "text/plain": [
              "['jump',\n",
              " 'to',\n",
              " 'content',\n",
              " 'toggle',\n",
              " 'sidebar',\n",
              " 'wikipediathe',\n",
              " 'free',\n",
              " 'encyclopedia',\n",
              " 'search']"
            ]
          },
          "metadata": {},
          "execution_count": 14
        }
      ],
      "source": [
        "word_tokens [:9]"
      ]
    },
    {
      "cell_type": "code",
      "execution_count": null,
      "metadata": {
        "id": "g8JSxNFv_ztR"
      },
      "outputs": [],
      "source": [
        "##Performing Text-PreProcessing Steps"
      ]
    },
    {
      "cell_type": "code",
      "execution_count": 15,
      "metadata": {
        "id": "ddCp7pzhNFEF"
      },
      "outputs": [],
      "source": [
        "lemmer = nltk.stem.WordNetLemmatizer()\n",
        "def LemTokens(tokens):\n",
        " return [lemmer.lemmatize(token) for token in tokens]\n",
        "remove_punc_dict = dict((ord(punct), None) for punct in string.punctuation)\n",
        "def LemNormalize(text):\n",
        " return LemTokens (nltk.word_tokenize(text.lower().translate (remove_punc_dict)))"
      ]
    },
    {
      "cell_type": "code",
      "execution_count": 16,
      "metadata": {
        "id": "9QN5e_9FO50k"
      },
      "outputs": [],
      "source": [
        "##Define Greeting functions"
      ]
    },
    {
      "cell_type": "code",
      "execution_count": 17,
      "metadata": {
        "id": "FE_QSO2iO-hT"
      },
      "outputs": [],
      "source": [
        "greet_inputs = ('hello', 'hi', 'Hey', 'whassup', 'how are you?')\n",
        "greet_responses = (' hi', ' Hey', ' Hey There!', ' There there!!')\n",
        "def greet (sentence):\n",
        "   for word in sentence.split():\n",
        "     if word.lower() in greet_inputs:\n",
        "       return random.choice(greet_responses)"
      ]
    },
    {
      "cell_type": "code",
      "execution_count": 18,
      "metadata": {
        "id": "k1VNHSBePbEB"
      },
      "outputs": [],
      "source": [
        "from sklearn. feature_extraction.text import TfidfVectorizer\n",
        "from sklearn.metrics.pairwise import cosine_similarity"
      ]
    },
    {
      "cell_type": "code",
      "execution_count": 19,
      "metadata": {
        "id": "BIXftgHCPbHm"
      },
      "outputs": [],
      "source": [
        "def response (user_response):\n",
        "  robo1_response = ''\n",
        "  TfidfVec = TfidfVectorizer(tokenizer = LemNormalize, stop_words = 'english')\n",
        "  tfidf = TfidfVec.fit_transform (sentence_tokens)\n",
        "  vals = cosine_similarity (tfidf[-1], tfidf)\n",
        "  idx = vals.argsort()[0][-2]\n",
        "  flat = vals. flatten()\n",
        "  flat.sort()\n",
        "  req_tfidf = flat [-2]\n",
        "  if (req_tfidf == 0):\n",
        "    robo1_response = robo1_response + \"I am sorry. Unable to understand you!\"\n",
        "    return robo1_response\n",
        "  else:\n",
        "    robo1_response = robo1_response+ sentence_tokens[idx]\n",
        "    return robo1_response"
      ]
    },
    {
      "cell_type": "code",
      "execution_count": null,
      "metadata": {
        "id": "EAzL7SUXRskb"
      },
      "outputs": [],
      "source": [
        "##Defining the chatFlow"
      ]
    },
    {
      "cell_type": "code",
      "execution_count": null,
      "metadata": {
        "colab": {
          "base_uri": "https://localhost:8080/"
        },
        "id": "sbugLXx8R-sm",
        "outputId": "32ab0408-f420-437a-d9ec-fa17fcdcaf28"
      },
      "outputs": [
        {
          "output_type": "stream",
          "name": "stdout",
          "text": [
            "Hello! I am the Learning Bot. Start typing your text after greeting to talk to me. For ending convo type bye!\n",
            "hi\n",
            "Bot: hi\n",
            "charminar\n",
            "Bot: \"india: charminar is in fact a madrasa and masjid\".\n",
            "location\n",
            "Bot: jump to content\n",
            "toggle sidebar\n",
            "\n",
            "wikipediathe free encyclopedia\n",
            "search wikipedia\n",
            "create account\n",
            "log in\n",
            "\n",
            "personal tools\n",
            "\n",
            "charminar\n",
            "\n",
            "page\n",
            "talk\n",
            "read\n",
            "edit\n",
            "change source\n",
            "view history\n",
            "from simple english wikipedia, the free encyclopedia\n",
            "charminar\n",
            "charminar-pride of hyderabad.jpg\n",
            "religion\n",
            "affiliation\tislam\n",
            "district\tcharminar\n",
            "year consecrated\t1591\n",
            "(1591; 432 years ago)\n",
            "location\n",
            "location\thyderabad, telangana, india\n",
            "17°21′42″n 78°28′29″ecoordinates: 17°21′42″n 78°28′29″e\n",
            "state\ttelangana\n",
            "architecture\n",
            "architect(s)\tmir momin astarawadi[1][2]\n",
            "architectural style\tindo-islamic architecture\n",
            "founder\tmuhammad quli qutb shah\n",
            "specifications\n",
            "minaret(s)\t4\n",
            "minaret height\t48.7 metres (160 ft)\n",
            "materials\tgranite, limestone, mortar and pulverized marble\n",
            "the charminar is a monument and mosque in hyderabad, india.\n",
            "speciality\n",
            "Bot: I am sorry. Unable to understand you!\n",
            "history\n",
            "Bot: jump to content\n",
            "toggle sidebar\n",
            "\n",
            "wikipediathe free encyclopedia\n",
            "search wikipedia\n",
            "create account\n",
            "log in\n",
            "\n",
            "personal tools\n",
            "\n",
            "charminar\n",
            "\n",
            "page\n",
            "talk\n",
            "read\n",
            "edit\n",
            "change source\n",
            "view history\n",
            "from simple english wikipedia, the free encyclopedia\n",
            "charminar\n",
            "charminar-pride of hyderabad.jpg\n",
            "religion\n",
            "affiliation\tislam\n",
            "district\tcharminar\n",
            "year consecrated\t1591\n",
            "(1591; 432 years ago)\n",
            "location\n",
            "location\thyderabad, telangana, india\n",
            "17°21′42″n 78°28′29″ecoordinates: 17°21′42″n 78°28′29″e\n",
            "state\ttelangana\n",
            "architecture\n",
            "architect(s)\tmir momin astarawadi[1][2]\n",
            "architectural style\tindo-islamic architecture\n",
            "founder\tmuhammad quli qutb shah\n",
            "specifications\n",
            "minaret(s)\t4\n",
            "minaret height\t48.7 metres (160 ft)\n",
            "materials\tgranite, limestone, mortar and pulverized marble\n",
            "the charminar is a monument and mosque in hyderabad, india.\n"
          ]
        }
      ],
      "source": [
        "flag = True\n",
        "print('Hello! I am the Learning Bot. Start typing your text after greeting to talk to me. For ending convo type bye!')\n",
        "while (flag == True):\n",
        "  user_response = input()\n",
        "  user_response = user_response.lower()\n",
        "  if(user_response != 'bye'):\n",
        "    if(user_response == 'thank you' or user_response == 'thanks'):\n",
        "      flag = False\n",
        "      print('Bot: You are Welcome..')\n",
        "    else:\n",
        "      if(greet (user_response) != None):\n",
        "        print('Bot:'+ greet (user_response ))\n",
        "      else:\n",
        "        sentence_tokens.append(user_response)\n",
        "        word_tokens = word_tokens + nltk.word_tokenize(user_response)\n",
        "        final_words = list (set (word_tokens))\n",
        "        print('Bot: ', end = '')\n",
        "        print (response (user_response ))\n",
        "        sentence_tokens.remove(user_response)\n",
        "  else:\n",
        "    flag = False\n",
        "    print('Bot: Goodbye!')\n",
        "\n",
        "    \n"
      ]
    }
  ],
  "metadata": {
    "colab": {
      "provenance": [],
      "authorship_tag": "ABX9TyNBw72EAGJQAwRsj9nRPSlM",
      "include_colab_link": true
    },
    "kernelspec": {
      "display_name": "Python 3",
      "name": "python3"
    },
    "language_info": {
      "name": "python"
    }
  },
  "nbformat": 4,
  "nbformat_minor": 0
}