{
  "cells": [
    {
      "cell_type": "markdown",
      "metadata": {
        "id": "view-in-github",
        "colab_type": "text"
      },
      "source": [
        "<a href=\"https://colab.research.google.com/github/NazeemUnnisa/NazeemUnnisa/blob/main/NLTK_Chatbot_in_Python.ipynb\" target=\"_parent\"><img src=\"https://colab.research.google.com/assets/colab-badge.svg\" alt=\"Open In Colab\"/></a>"
      ]
    },
    {
      "cell_type": "code",
      "execution_count": 1,
      "metadata": {
        "id": "0BN92Q2t7SRu"
      },
      "outputs": [],
      "source": [
        "import numpy as np\n",
        "import nltk\n",
        "import string\n",
        "import random"
      ]
    },
    {
      "cell_type": "code",
      "execution_count": 2,
      "metadata": {
        "id": "YyW1Wwzk_oZF"
      },
      "outputs": [],
      "source": [
        "##Reading the Corpus of Text"
      ]
    },
    {
      "cell_type": "code",
      "execution_count": 3,
      "metadata": {
        "id": "3oqgakBV_tP6"
      },
      "outputs": [],
      "source": [
        "f = open('/content/data.txt', 'r', errors = 'ignore')\n",
        "raw_doc = f.read()"
      ]
    },
    {
      "cell_type": "code",
      "execution_count": null,
      "metadata": {
        "id": "WMcePYZFI8FA"
      },
      "outputs": [],
      "source": [
        "raw_doc"
      ]
    },
    {
      "cell_type": "code",
      "execution_count": null,
      "metadata": {
        "id": "s-4u4hHK_wdy"
      },
      "outputs": [],
      "source": [
        "raw_doc = raw_doc.lower() #Converting entire text to lowercase\n",
        "nltk.download ('punkt') #Using the Punkt tokenizer\n",
        "nltk.download ('wordnet') #Using the wordnet dictionary\n",
        "nltk.download ('omw-1.4')\n"
      ]
    },
    {
      "cell_type": "code",
      "execution_count": null,
      "metadata": {
        "id": "eeTvx97oKCOS"
      },
      "outputs": [],
      "source": [
        "raw_doc"
      ]
    },
    {
      "cell_type": "code",
      "execution_count": null,
      "metadata": {
        "id": "nOz5s_vBI1mx"
      },
      "outputs": [],
      "source": [
        "sentence_tokens = n1tk.sent_tokenize(raw_doc)\n",
        "word_tokens = nltk.word_tokenize(raw_doc)"
      ]
    },
    {
      "cell_type": "code",
      "execution_count": 12,
      "metadata": {
        "id": "DRgnnrFkMYWS"
      },
      "outputs": [],
      "source": [
        "##After Tokenization"
      ]
    },
    {
      "cell_type": "code",
      "execution_count": null,
      "metadata": {
        "id": "YXZdcasXMb4A"
      },
      "outputs": [],
      "source": [
        "sentence_tokens [:5]"
      ]
    },
    {
      "cell_type": "code",
      "execution_count": null,
      "metadata": {
        "id": "DRYVopmSMgA1"
      },
      "outputs": [],
      "source": [
        "word_tokens [:9]"
      ]
    },
    {
      "cell_type": "code",
      "execution_count": null,
      "metadata": {
        "id": "g8JSxNFv_ztR"
      },
      "outputs": [],
      "source": [
        "##Performing Text-PreProcessing Steps"
      ]
    },
    {
      "cell_type": "code",
      "execution_count": 15,
      "metadata": {
        "id": "ddCp7pzhNFEF"
      },
      "outputs": [],
      "source": [
        "lemmer = nltk.stem.WordNetLemmatizer()\n",
        "def LemTokens(tokens):\n",
        " return [lemmer.lemmatize(token) for token in tokens]\n",
        "remove_punc_dict = dict((ord(punct), None) for punct in string.punctuation)\n",
        "def LemNormalize(text):\n",
        " return LemTokens (nltk.word_tokenize(text.lower().translate (remove_punc_dict)))"
      ]
    },
    {
      "cell_type": "code",
      "execution_count": 16,
      "metadata": {
        "id": "9QN5e_9FO50k"
      },
      "outputs": [],
      "source": [
        "##Define Greeting functions"
      ]
    },
    {
      "cell_type": "code",
      "execution_count": 17,
      "metadata": {
        "id": "FE_QSO2iO-hT"
      },
      "outputs": [],
      "source": [
        "greet_inputs = ('hello', 'hi', 'Hey', 'whassup', 'how are you?')\n",
        "greet_responses = (' hi', ' Hey', ' Hey There!', ' There there!!')\n",
        "def greet (sentence):\n",
        "   for word in sentence.split():\n",
        "     if word.lower() in greet_inputs:\n",
        "       return random.choice(greet_responses)"
      ]
    },
    {
      "cell_type": "code",
      "execution_count": 18,
      "metadata": {
        "id": "k1VNHSBePbEB"
      },
      "outputs": [],
      "source": [
        "from sklearn. feature_extraction.text import TfidfVectorizer\n",
        "from sklearn.metrics.pairwise import cosine_similarity"
      ]
    },
    {
      "cell_type": "code",
      "execution_count": 19,
      "metadata": {
        "id": "BIXftgHCPbHm"
      },
      "outputs": [],
      "source": [
        "def response (user_response):\n",
        "  robo1_response = ''\n",
        "  TfidfVec = TfidfVectorizer(tokenizer = LemNormalize, stop_words = 'english')\n",
        "  tfidf = TfidfVec.fit_transform (sentence_tokens)\n",
        "  vals = cosine_similarity (tfidf[-1], tfidf)\n",
        "  idx = vals.argsort()[0][-2]\n",
        "  flat = vals. flatten()\n",
        "  flat.sort()\n",
        "  req_tfidf = flat [-2]\n",
        "  if (req_tfidf == 0):\n",
        "    robo1_response = robo1_response + \"I am sorry. Unable to understand you!\"\n",
        "    return robo1_response\n",
        "  else:\n",
        "    robo1_response = robo1_response+ sentence_tokens[idx]\n",
        "    return robo1_response"
      ]
    },
    {
      "cell_type": "code",
      "execution_count": null,
      "metadata": {
        "id": "EAzL7SUXRskb"
      },
      "outputs": [],
      "source": [
        "##Defining the chatFlow"
      ]
    },
    {
      "cell_type": "code",
      "execution_count": null,
      "metadata": {
        "id": "sbugLXx8R-sm"
      },
      "outputs": [],
      "source": [
        "flag = True\n",
        "print('Hello! I am the Learning Bot. Start typing your text after greeting to talk to me. For ending convo type bye!')\n",
        "while (flag == True):\n",
        "  user_response = input()\n",
        "  user_response = user_response.lower()\n",
        "  if(user_response != 'bye'):\n",
        "    if(user_response == 'thank you' or user_response == 'thanks'):\n",
        "      flag = False\n",
        "      print('Bot: You are Welcome..')\n",
        "    else:\n",
        "      if(greet (user_response) != None):\n",
        "        print('Bot:'+ greet (user_response ))\n",
        "      else:\n",
        "        sentence_tokens.append(user_response)\n",
        "        word_tokens = word_tokens + nltk.word_tokenize(user_response)\n",
        "        final_words = list (set (word_tokens))\n",
        "        print('Bot: ', end = '')\n",
        "        print (response (user_response ))\n",
        "        sentence_tokens.remove(user_response)\n",
        "  else:\n",
        "    flag = False\n",
        "    print('Bot: Goodbye!')\n",
        "\n",
        "    \n"
      ]
    }
  ],
  "metadata": {
    "colab": {
      "provenance": [],
      "authorship_tag": "ABX9TyOgywgxQn1u0hGslHcaC7Vc",
      "include_colab_link": true
    },
    "kernelspec": {
      "display_name": "Python 3",
      "name": "python3"
    },
    "language_info": {
      "name": "python"
    }
  },
  "nbformat": 4,
  "nbformat_minor": 0
}